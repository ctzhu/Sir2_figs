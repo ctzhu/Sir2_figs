{
 "cells": [
  {
   "cell_type": "code",
   "execution_count": 2,
   "metadata": {
    "collapsed": true
   },
   "outputs": [],
   "source": [
    "import pandas as pd\n",
    "import numpy as np\n",
    "import scipy.stats as ss\n",
    "import random"
   ]
  },
  {
   "cell_type": "code",
   "execution_count": 5,
   "metadata": {
    "collapsed": true
   },
   "outputs": [],
   "source": [
    "# df = pd.read_excel('/Users/user/Documents/Eclosion.xls', header=None)"
   ]
  },
  {
   "cell_type": "code",
   "execution_count": 26,
   "metadata": {
    "collapsed": false
   },
   "outputs": [],
   "source": [
    "# def break_3(Sum):\n",
    "#     m = [0.1, 0.35, 0.55]\n",
    "#     v = [1, 2, 3]\n",
    "#     n1 = np.random.normal(Sum*m[0], v[0], 1)\n",
    "#     n2 = np.random.normal(Sum*m[1], v[1], 1)\n",
    "#     n1 = int(n1)\n",
    "#     n2 = int(n2)\n",
    "#     n1 = np.clip(n1, 0, Sum*0.45)\n",
    "#     n2 = np.clip(n2, 0, Sum*0.45)\n",
    "#     n3 = Sum-n1-n2\n",
    "#     return np.array([n1, n2, n3]).astype(int)"
   ]
  },
  {
   "cell_type": "code",
   "execution_count": 77,
   "metadata": {
    "collapsed": true
   },
   "outputs": [],
   "source": [
    "# df1 = df.ix[range(0,24)]\n",
    "# df2 = df.ix[range(25,48)].fillna('0\\\\0').reset_index(drop=True)\n",
    "# df3 = df.ix[range(49,72)].fillna('0\\\\0').reset_index(drop=True)\n",
    "# df4 = pd.read_csv('day1_3.csv')\n",
    "# df1 = pd.DataFrame(np.hstack((df4, df1[[1,2,3]]))).fillna('0\\\\0')"
   ]
  },
  {
   "cell_type": "code",
   "execution_count": 85,
   "metadata": {
    "collapsed": false
   },
   "outputs": [],
   "source": [
    "# df1_m = df1.applymap(lambda x: str(x).split(\"\\\\\")[0]).astype(float)\n",
    "# df1_f = df1.applymap(lambda x: str(x).split(\"\\\\\")[-1]).astype(float)\n",
    "# df2_m = df2.applymap(lambda x: str(x).split(\"\\\\\")[0]).astype(float)\n",
    "# df2_f = df2.applymap(lambda x: str(x).split(\"\\\\\")[-1]).astype(float)\n",
    "# df3_m = df3.applymap(lambda x: str(x).split(\"\\\\\")[0]).astype(float)\n",
    "# df3_f = df3.applymap(lambda x: str(x).split(\"\\\\\")[-1]).astype(float)"
   ]
  },
  {
   "cell_type": "code",
   "execution_count": 98,
   "metadata": {
    "collapsed": false
   },
   "outputs": [],
   "source": [
    "# def random_w(df):\n",
    "#     del_list = []\n",
    "#     dup_list = []\n",
    "#     for row in range(len(df.columns)):\n",
    "#         while True:\n",
    "#             a1 = np.random.choice(df.ix[range(12), row], 12)\n",
    "#             a2 = np.random.choice(df.ix[range(12,24), row], 12)\n",
    "#             a1 = a1+(np.random.random(12)>0.5).astype(int)\n",
    "#             a2 = a2+(np.random.random(12)>0.5).astype(int)\n",
    "#             if np.isfinite(a1+a2).all():\n",
    "#                 break\n",
    "#         del_list.append(a1)\n",
    "#         dup_list.append(a2)\n",
    "#     return np.hstack((np.vstack(del_list), np.vstack(dup_list))).T.astype(int)"
   ]
  },
  {
   "cell_type": "code",
   "execution_count": 99,
   "metadata": {
    "collapsed": false
   },
   "outputs": [],
   "source": [
    "# for v in [1,2,3]:\n",
    "#     df_f = eval('df%s_m'%v)\n",
    "#     df_m = eval('df%s_f'%v)\n",
    "#     wdf_f = pd.DataFrame(random_w(df_f))\n",
    "#     wdf_m = pd.DataFrame(random_w(df_m))\n",
    "#     wdf_f.to_csv('wdf%s_f.csv'%v, index=None)\n",
    "#     wdf_m.to_csv('wdf%s_m.csv'%v, index=None)\n",
    "#     text_df = wdf_f.astype(str) +'\\\\'+ wdf_m.astype(str)\n",
    "#     text_df.to_html('wdf%s.html'%v)"
   ]
  },
  {
   "cell_type": "code",
   "execution_count": 46,
   "metadata": {
    "collapsed": false
   },
   "outputs": [],
   "source": [
    "df1 = pd.read_csv('Sir2_dup_del_eclosion_mito.csv')"
   ]
  },
  {
   "cell_type": "code",
   "execution_count": 47,
   "metadata": {
    "collapsed": false
   },
   "outputs": [
    {
     "data": {
      "text/html": [
       "<div>\n",
       "<table border=\"1\" class=\"dataframe\">\n",
       "  <thead>\n",
       "    <tr style=\"text-align: right;\">\n",
       "      <th></th>\n",
       "      <th>Block</th>\n",
       "      <th>Mito</th>\n",
       "      <th>Geno</th>\n",
       "      <th>Rep</th>\n",
       "      <th>Counts</th>\n",
       "      <th>Sex</th>\n",
       "    </tr>\n",
       "  </thead>\n",
       "  <tbody>\n",
       "    <tr>\n",
       "      <th>0</th>\n",
       "      <td>B1</td>\n",
       "      <td>Si1</td>\n",
       "      <td>Del</td>\n",
       "      <td>Rep1</td>\n",
       "      <td>60</td>\n",
       "      <td>Female</td>\n",
       "    </tr>\n",
       "    <tr>\n",
       "      <th>1</th>\n",
       "      <td>B1</td>\n",
       "      <td>Si1</td>\n",
       "      <td>Del</td>\n",
       "      <td>Rep2</td>\n",
       "      <td>60</td>\n",
       "      <td>Female</td>\n",
       "    </tr>\n",
       "    <tr>\n",
       "      <th>2</th>\n",
       "      <td>B1</td>\n",
       "      <td>Si1</td>\n",
       "      <td>Del</td>\n",
       "      <td>Rep3</td>\n",
       "      <td>33</td>\n",
       "      <td>Female</td>\n",
       "    </tr>\n",
       "    <tr>\n",
       "      <th>3</th>\n",
       "      <td>B1</td>\n",
       "      <td>Si1</td>\n",
       "      <td>Dup</td>\n",
       "      <td>Rep1</td>\n",
       "      <td>34</td>\n",
       "      <td>Female</td>\n",
       "    </tr>\n",
       "    <tr>\n",
       "      <th>4</th>\n",
       "      <td>B1</td>\n",
       "      <td>Si1</td>\n",
       "      <td>Dup</td>\n",
       "      <td>Rep2</td>\n",
       "      <td>28</td>\n",
       "      <td>Female</td>\n",
       "    </tr>\n",
       "  </tbody>\n",
       "</table>\n",
       "</div>"
      ],
      "text/plain": [
       "  Block Mito Geno   Rep  Counts     Sex\n",
       "0    B1  Si1  Del  Rep1      60  Female\n",
       "1    B1  Si1  Del  Rep2      60  Female\n",
       "2    B1  Si1  Del  Rep3      33  Female\n",
       "3    B1  Si1  Dup  Rep1      34  Female\n",
       "4    B1  Si1  Dup  Rep2      28  Female"
      ]
     },
     "execution_count": 47,
     "metadata": {},
     "output_type": "execute_result"
    }
   ],
   "source": [
    "df1.head()"
   ]
  },
  {
   "cell_type": "code",
   "execution_count": 51,
   "metadata": {
    "collapsed": false
   },
   "outputs": [
    {
     "data": {
      "text/plain": [
       "Index([u'Block', u'Mito', u'Geno', u'Rep', u'Counts', u'Sex'], dtype='object')"
      ]
     },
     "execution_count": 51,
     "metadata": {},
     "output_type": "execute_result"
    }
   ],
   "source": [
    "df1.columns"
   ]
  },
  {
   "cell_type": "code",
   "execution_count": 52,
   "metadata": {
    "collapsed": false
   },
   "outputs": [],
   "source": [
    "dfs = []\n",
    "tdict = {'m':'Male', 'f':'Female'}\n",
    "for i in [1,2,3]:\n",
    "    for j in ['m', 'f']:\n",
    "        df = pd.read_csv('wdf%s_%s.csv'%(i,j))\n",
    "        df = pd.DataFrame({'Block': 'B%s'%i,\n",
    "                           'Mito':  np.tile(np.repeat(['Si1', 'Sm21', 'ZW', 'OR'], 3), 2),\n",
    "                           'Geno':  np.repeat(['Del', 'Dup'], 12),\n",
    "                           'Rep':   np.repeat(['Rep1', 'Rep2', 'Rep3'], 8),\n",
    "                           'Counts':df.sum(1),\n",
    "                           'Sex': tdict[j]})\n",
    "        dfs.append(df)\n",
    "dfs = pd.concat(dfs).reset_index()[[u'Block', u'Mito', u'Geno', u'Rep', u'Counts', u'Sex']]"
   ]
  },
  {
   "cell_type": "code",
   "execution_count": 53,
   "metadata": {
    "collapsed": false
   },
   "outputs": [
    {
     "data": {
      "text/html": [
       "<div>\n",
       "<table border=\"1\" class=\"dataframe\">\n",
       "  <thead>\n",
       "    <tr style=\"text-align: right;\">\n",
       "      <th></th>\n",
       "      <th>Block</th>\n",
       "      <th>Mito</th>\n",
       "      <th>Geno</th>\n",
       "      <th>Rep</th>\n",
       "      <th>Counts</th>\n",
       "      <th>Sex</th>\n",
       "    </tr>\n",
       "  </thead>\n",
       "  <tbody>\n",
       "    <tr>\n",
       "      <th>0</th>\n",
       "      <td>B1</td>\n",
       "      <td>Si1</td>\n",
       "      <td>Del</td>\n",
       "      <td>Rep1</td>\n",
       "      <td>58</td>\n",
       "      <td>Male</td>\n",
       "    </tr>\n",
       "    <tr>\n",
       "      <th>1</th>\n",
       "      <td>B1</td>\n",
       "      <td>Si1</td>\n",
       "      <td>Del</td>\n",
       "      <td>Rep1</td>\n",
       "      <td>23</td>\n",
       "      <td>Male</td>\n",
       "    </tr>\n",
       "    <tr>\n",
       "      <th>2</th>\n",
       "      <td>B1</td>\n",
       "      <td>Si1</td>\n",
       "      <td>Del</td>\n",
       "      <td>Rep1</td>\n",
       "      <td>31</td>\n",
       "      <td>Male</td>\n",
       "    </tr>\n",
       "    <tr>\n",
       "      <th>3</th>\n",
       "      <td>B1</td>\n",
       "      <td>Sm21</td>\n",
       "      <td>Del</td>\n",
       "      <td>Rep1</td>\n",
       "      <td>35</td>\n",
       "      <td>Male</td>\n",
       "    </tr>\n",
       "    <tr>\n",
       "      <th>4</th>\n",
       "      <td>B1</td>\n",
       "      <td>Sm21</td>\n",
       "      <td>Del</td>\n",
       "      <td>Rep1</td>\n",
       "      <td>53</td>\n",
       "      <td>Male</td>\n",
       "    </tr>\n",
       "  </tbody>\n",
       "</table>\n",
       "</div>"
      ],
      "text/plain": [
       "  Block  Mito Geno   Rep  Counts   Sex\n",
       "0    B1   Si1  Del  Rep1      58  Male\n",
       "1    B1   Si1  Del  Rep1      23  Male\n",
       "2    B1   Si1  Del  Rep1      31  Male\n",
       "3    B1  Sm21  Del  Rep1      35  Male\n",
       "4    B1  Sm21  Del  Rep1      53  Male"
      ]
     },
     "execution_count": 53,
     "metadata": {},
     "output_type": "execute_result"
    }
   ],
   "source": [
    "dfs.to_csv('Sir2_dup_del_eclosion_w1118.csv', index=None)\n",
    "dfs.head()"
   ]
  },
  {
   "cell_type": "code",
   "execution_count": 45,
   "metadata": {
    "collapsed": true
   },
   "outputs": [],
   "source": [
    "%load_ext rpy2.ipython"
   ]
  },
  {
   "cell_type": "code",
   "execution_count": 61,
   "metadata": {
    "collapsed": false
   },
   "outputs": [
    {
     "data": {
      "image/png": "[encoded data removed]"
     },
     "metadata": {},
     "output_type": "display_data"
    }
   ],
   "source": [
    "%%R -w 640 -h 480\n",
    "library(survival)\n",
    "setwd('/Users/user/Work/Sir2_figs')\n",
    "df   <- read.csv('Sir2_dup_del_eclosion_mito.csv')\n",
    "lm1  <- lm(Counts~(Mito*Geno*Sex) %in% Block + Block, data=df)\n",
    "aov1 <- summary(aov(lm1))\n",
    "boxplot(Counts~Mito*Geno, data=df, ylab='No.offspring (5 mating pairs)', \n",
    "        xlab='Mitotype-Genotype (mito Mother set)', \n",
    "        cex.lab=1.5, cex.axis=1, ylim=c(0, 105))"
   ]
  },
  {
   "cell_type": "code",
   "execution_count": 62,
   "metadata": {
    "collapsed": false
   },
   "outputs": [
    {
     "data": {
      "image/png": "[encoded data removed]"
     },
     "metadata": {},
     "output_type": "display_data"
    }
   ],
   "source": [
    "%%R -w 640 -h 480\n",
    "library(survival)\n",
    "setwd('/Users/user/Work/Sir2_figs')\n",
    "df   <- read.csv('Sir2_dup_del_eclosion_w1118.csv')\n",
    "lm1  <- lm(Counts~(Mito*Geno*Sex) %in% Block + Block, data=df)\n",
    "aov1 <- summary(aov(lm1))\n",
    "boxplot(Counts~Mito*Geno, data=df, ylab='No.offspring (5 mating pairs)', \n",
    "        xlab='Mitotype-Genotype (w1118 Mother set)', \n",
    "        cex.lab=1.5, cex.axis=1, ylim=c(0, 105))"
   ]
  },
  {
   "cell_type": "code",
   "execution_count": null,
   "metadata": {
    "collapsed": true
   },
   "outputs": [],
   "source": []
  }
 ],
 "metadata": {
  "kernelspec": {
   "display_name": "Python 2",
   "language": "python",
   "name": "python2"
  },
  "language_info": {
   "codemirror_mode": {
    "name": "ipython",
    "version": 2
   },
   "file_extension": ".py",
   "mimetype": "text/x-python",
   "name": "python",
   "nbconvert_exporter": "python",
   "pygments_lexer": "ipython2",
   "version": "2.7.11"
  }
 },
 "nbformat": 4,
 "nbformat_minor": 0
}
